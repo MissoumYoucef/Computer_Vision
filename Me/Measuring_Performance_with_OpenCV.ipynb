{
 "cells": [
  {
   "cell_type": "code",
   "execution_count": 1,
   "metadata": {},
   "outputs": [],
   "source": [
    "import cv2 as cv"
   ]
  },
  {
   "cell_type": "code",
   "execution_count": 2,
   "metadata": {},
   "outputs": [],
   "source": [
    "# It serves as the starting point for your code's execution time measurement.\n",
    "e1 = cv.getTickCount()\n",
    "# This captures the number of clock cycles after your code has finished executing\n",
    "e2 = cv.getTickCount()\n",
    "# This line calculates the elapsed time in seconds.\n",
    "# retrieves the CPU's clock frequency in cycles per second.\n",
    "# It converts the cycle count difference to actual time.\n",
    "time = (e2 - e1)/ cv.getTickFrequency()"
   ]
  },
  {
   "cell_type": "code",
   "execution_count": 9,
   "metadata": {},
   "outputs": [
    {
     "name": "stdout",
     "output_type": "stream",
     "text": [
      "0.1612366\n"
     ]
    }
   ],
   "source": [
    "img1 = cv.imread('missi5.jpg')\n",
    "assert img1 is not None, \"file could not be read, check with os.path.exists()\"\n",
    "e1 = cv.getTickCount()\n",
    "for i in range(5,49,2): # 5,7,8,.....size of filter(Mask)\n",
    "    img1 = cv.medianBlur(img1,i) # median filtering\n",
    "e2 = cv.getTickCount()\n",
    "t = (e2 - e1)/cv.getTickFrequency()\n",
    "print( t )"
   ]
  },
  {
   "cell_type": "code",
   "execution_count": 10,
   "metadata": {},
   "outputs": [
    {
     "data": {
      "text/plain": [
       "True"
      ]
     },
     "execution_count": 10,
     "metadata": {},
     "output_type": "execute_result"
    }
   ],
   "source": [
    "# Primarily used to enable or disable the use of optimized instructions sets\n",
    "# like SSE2, AVX, AVX2 on x86_64 architectures,\n",
    "cv.useOptimized()"
   ]
  },
  {
   "cell_type": "code",
   "execution_count": 12,
   "metadata": {},
   "outputs": [
    {
     "name": "stdout",
     "output_type": "stream",
     "text": [
      "6.01 ms ± 186 µs per loop (mean ± std. dev. of 7 runs, 100 loops each)\n"
     ]
    }
   ],
   "source": [
    "# measure the execution time of applying the median blur \n",
    "# with a kernel size of 49 to the image img1\n",
    "%timeit res = cv.medianBlur(img1,49)"
   ]
  },
  {
   "cell_type": "code",
   "execution_count": null,
   "metadata": {},
   "outputs": [],
   "source": []
  }
 ],
 "metadata": {
  "kernelspec": {
   "display_name": "Python 3",
   "language": "python",
   "name": "python3"
  },
  "language_info": {
   "codemirror_mode": {
    "name": "ipython",
    "version": 3
   },
   "file_extension": ".py",
   "mimetype": "text/x-python",
   "name": "python",
   "nbconvert_exporter": "python",
   "pygments_lexer": "ipython3",
   "version": "3.11.2"
  }
 },
 "nbformat": 4,
 "nbformat_minor": 2
}
