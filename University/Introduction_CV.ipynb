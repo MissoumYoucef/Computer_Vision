{
 "cells": [
  {
   "cell_type": "code",
   "execution_count": 1,
   "metadata": {},
   "outputs": [
    {
     "name": "stderr",
     "output_type": "stream",
     "text": [
      "UsageError: Line magic function `%%capture` not found.\n"
     ]
    }
   ],
   "source": [
    "#\n",
    "# Exécutez cette cellule pour préparer votre environnement Colab.\n",
    "#\n",
    "%%capture\n",
    "!wget https://benhadid.github.io/m1vpo/static_files/assignments/hw0.zip\n",
    "!unzip hw0.zip\n",
    "!mv hw0/* .\n",
    "!rm -rf hw0\n",
    "!rm -rf hw0.zip"
   ]
  }
 ],
 "metadata": {
  "kernelspec": {
   "display_name": "Python 3",
   "language": "python",
   "name": "python3"
  },
  "language_info": {
   "codemirror_mode": {
    "name": "ipython",
    "version": 3
   },
   "file_extension": ".py",
   "mimetype": "text/x-python",
   "name": "python",
   "nbconvert_exporter": "python",
   "pygments_lexer": "ipython3",
   "version": "3.11.2"
  }
 },
 "nbformat": 4,
 "nbformat_minor": 2
}
